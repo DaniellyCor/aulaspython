{
  "nbformat": 4,
  "nbformat_minor": 0,
  "metadata": {
    "colab": {
      "provenance": [],
      "authorship_tag": "ABX9TyO89VWKOfxQUy3s7D9rmCoZ",
      "include_colab_link": true
    },
    "kernelspec": {
      "name": "python3",
      "display_name": "Python 3"
    },
    "language_info": {
      "name": "python"
    }
  },
  "cells": [
    {
      "cell_type": "markdown",
      "metadata": {
        "id": "view-in-github",
        "colab_type": "text"
      },
      "source": [
        "<a href=\"https://colab.research.google.com/github/DaniellyCor/aulaspython/blob/main/untitled4.ipynb\" target=\"_parent\"><img src=\"https://colab.research.google.com/assets/colab-badge.svg\" alt=\"Open In Colab\"/></a>"
      ]
    },
    {
      "cell_type": "markdown",
      "source": [
        "Crie um código que calcule a área de 3 formas geométricas de sua preferência.<p>\n",
        "Utilize funções para separar as calculadoras.<p>\n",
        "Se preferir use bibliotecas externas."
      ],
      "metadata": {
        "id": "nUjOZHAYMWUP"
      }
    },
    {
      "cell_type": "code",
      "source": [
        "def triangulo():\n",
        "  base = int(input(\"Digite o valor da base: \"))\n",
        "  altura= int(input(\"Digite o valor da altura: \"))\n",
        "  areat = (base*altura)/2\n",
        "  print(f\"Área = {areat}\")"
      ],
      "metadata": {
        "id": "uqDSzuTgMfJO"
      },
      "execution_count": null,
      "outputs": []
    },
    {
      "cell_type": "code",
      "source": [
        "def quadrado():\n",
        "  lado = int(input(\"Digite o lado do quadrado: \"))\n",
        "  areaq = lado * lado\n",
        "  print(f\"Área = {areaq}\")"
      ],
      "metadata": {
        "id": "g3Y9zqsyQBo1"
      },
      "execution_count": null,
      "outputs": []
    },
    {
      "cell_type": "code",
      "source": [
        "def losango():\n",
        "  diagonalMaior = int(input(\"Digite a diagonal maior: \"))\n",
        "  diagonalMenor = int(input(\"Digite a diagonal menor: \"))\n",
        "  areal = (diagonalMaior * diagonalMenor)/2\n",
        "  print(f\"Área = {areal}\")"
      ],
      "metadata": {
        "id": "f31KQR_mQuVU"
      },
      "execution_count": null,
      "outputs": []
    },
    {
      "cell_type": "code",
      "source": [
        "def menu():\n",
        "  escolha = int(input(\"Escolha uma forma geométrica para calcular a área \\n 1-Triangulo \\n 2- Quadrado \\n 3- Losango \\n\"))\n",
        "\n",
        "  if escolha == 1:\n",
        "    triangulo()\n",
        "  elif escolha == 2:\n",
        "    quadrado()\n",
        "  elif escolha == 3:\n",
        "    losango()\n",
        "  else:\n",
        "    print(\"Opção inválida!\")"
      ],
      "metadata": {
        "id": "hGwtAz2lSSee"
      },
      "execution_count": null,
      "outputs": []
    },
    {
      "cell_type": "code",
      "source": [
        "menu()"
      ],
      "metadata": {
        "colab": {
          "base_uri": "https://localhost:8080/"
        },
        "id": "ec_g-X4qVcds",
        "outputId": "1e5e7960-2c6d-427a-84a0-c77f3d0b4db3"
      },
      "execution_count": null,
      "outputs": [
        {
          "output_type": "stream",
          "name": "stdout",
          "text": [
            "Escolha uma forma geométrica para calcular a área \n",
            " 1-Triangulo \n",
            " 2- Quadrado \n",
            " 3- Losango \n",
            "3\n",
            "Digite a diagonal maior: 9\n",
            "Digite a diagonal menor: 6\n",
            "Área = 27.0\n"
          ]
        }
      ]
    }
  ]
}