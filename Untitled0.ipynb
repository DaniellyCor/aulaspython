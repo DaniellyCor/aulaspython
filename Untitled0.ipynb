{
  "nbformat": 4,
  "nbformat_minor": 0,
  "metadata": {
    "colab": {
      "provenance": [],
      "authorship_tag": "ABX9TyNdZBFEdeQhgwiPZrBGX8jk",
      "include_colab_link": true
    },
    "kernelspec": {
      "name": "python3",
      "display_name": "Python 3"
    },
    "language_info": {
      "name": "python"
    }
  },
  "cells": [
    {
      "cell_type": "markdown",
      "metadata": {
        "id": "view-in-github",
        "colab_type": "text"
      },
      "source": [
        "<a href=\"https://colab.research.google.com/github/DaniellyCor/aulaspython/blob/main/Untitled0.ipynb\" target=\"_parent\"><img src=\"https://colab.research.google.com/assets/colab-badge.svg\" alt=\"Open In Colab\"/></a>"
      ]
    },
    {
      "cell_type": "code",
      "source": [
        "print(\"Teste!\")"
      ],
      "metadata": {
        "colab": {
          "base_uri": "https://localhost:8080/"
        },
        "id": "RlFJFXVOu23B",
        "outputId": "70017648-a673-4fb3-8d36-ec176a9517a6"
      },
      "execution_count": null,
      "outputs": [
        {
          "output_type": "stream",
          "name": "stdout",
          "text": [
            "Teste!\n"
          ]
        }
      ]
    },
    {
      "cell_type": "code",
      "source": [
        "#comentário teste\n",
        "#comentário teste\n",
        "'''\n",
        "comentário teste\n",
        "'''\n",
        "print (\"Teste\")"
      ],
      "metadata": {
        "colab": {
          "base_uri": "https://localhost:8080/"
        },
        "id": "23XcyXSyvXDg",
        "outputId": "cbb01f2d-f707-4929-cc01-a421f3a7776e"
      },
      "execution_count": null,
      "outputs": [
        {
          "output_type": "stream",
          "name": "stdout",
          "text": [
            "Teste\n"
          ]
        }
      ]
    },
    {
      "cell_type": "code",
      "source": [
        "numero = 7788\n",
        "nome = \"Danielly \"\n",
        "print(numero + numero)\n",
        "print(nome + nome)\n"
      ],
      "metadata": {
        "colab": {
          "base_uri": "https://localhost:8080/"
        },
        "id": "7bNlyziKxNvH",
        "outputId": "a11ce1e7-6343-4fd5-fe3e-3e8eb0a1afb1"
      },
      "execution_count": null,
      "outputs": [
        {
          "output_type": "stream",
          "name": "stdout",
          "text": [
            "15576\n",
            "Danielly Danielly \n"
          ]
        }
      ]
    },
    {
      "cell_type": "markdown",
      "source": [
        "Soma +\n",
        "Subtração -\n",
        "Divisão /\n",
        "Multiplicação *\n",
        "Resto da divisão %\n",
        "Potência **\n"
      ],
      "metadata": {
        "id": "hPnln0MxyUjY"
      }
    },
    {
      "cell_type": "markdown",
      "source": [
        "Crie 3 variáveis numéricas\n",
        "Faça um cálculo com elas\n",
        "Crie 2 variáveis do tipo string: nome e sobrenome\n",
        "Exiba os resultados com o print"
      ],
      "metadata": {
        "id": "Vht_JO9Hz8ym"
      }
    },
    {
      "cell_type": "code",
      "source": [
        "nome = \"Danielly \"\n",
        "sobrenome = \"Ribeiro\"\n",
        "anonasc = 1995\n",
        "anoat = 2024\n",
        "fator = 1\n",
        "\n",
        "print(nome + sobrenome)\n",
        "print(anoat - anonasc - 1)"
      ],
      "metadata": {
        "colab": {
          "base_uri": "https://localhost:8080/"
        },
        "id": "X3OvaLzEz-se",
        "outputId": "3678b5aa-140f-4c57-abfc-354d26732d78"
      },
      "execution_count": null,
      "outputs": [
        {
          "output_type": "stream",
          "name": "stdout",
          "text": [
            "Danielly Ribeiro\n",
            "28\n"
          ]
        }
      ]
    },
    {
      "cell_type": "code",
      "source": [
        "seu_nome = input(\"Digite seu nome: \")\n",
        "print(\"Bem-vindo(a), \"+ seu_nome)"
      ],
      "metadata": {
        "colab": {
          "base_uri": "https://localhost:8080/"
        },
        "id": "TLTMXUtk1-nW",
        "outputId": "3ec02a22-7278-4f4f-9e26-bdaa503237e9"
      },
      "execution_count": null,
      "outputs": [
        {
          "output_type": "stream",
          "name": "stdout",
          "text": [
            "Digite seu nome: Danielly\n",
            "Bem-vindo(a), Danielly\n"
          ]
        }
      ]
    },
    {
      "cell_type": "code",
      "source": [
        "print(f\"Bem-vindo(a), {seu_nome}\")"
      ],
      "metadata": {
        "colab": {
          "base_uri": "https://localhost:8080/"
        },
        "id": "15T9z5zR3yhN",
        "outputId": "8c22e17d-63f6-4637-d6be-14f152ce7bbe"
      },
      "execution_count": null,
      "outputs": [
        {
          "output_type": "stream",
          "name": "stdout",
          "text": [
            "Bem-vindo(a), Danielly\n"
          ]
        }
      ]
    },
    {
      "cell_type": "code",
      "source": [
        "str(numero)+ nome"
      ],
      "metadata": {
        "id": "_WsK1-HU4HYV"
      },
      "execution_count": null,
      "outputs": []
    },
    {
      "cell_type": "code",
      "source": [
        "seu_nome = input(\"Digite seu nome: \")\n",
        "seu_ano = int (input(\"Digite o ano de nascimento: \"))\n",
        "ano_atual = int (input(\"Digite o ano atual: \"))\n",
        "#mes_niver = int (input (\"Digite o número do mês do seu aniversário: \"))\n",
        "#mes_atual = int (input(\"Digite o número do mês em que estamos: \"))\n",
        "\n",
        "idade = (ano_atual - seu_ano - 1)\n",
        "\n",
        "print(f\"Bem-vindo(a), {nome} você tem {idade} anos!\")\n"
      ],
      "metadata": {
        "colab": {
          "base_uri": "https://localhost:8080/"
        },
        "id": "0Lm4qzVO4TVW",
        "outputId": "35186c36-6c44-4d2e-cbd2-d53caec7f5cc"
      },
      "execution_count": null,
      "outputs": [
        {
          "output_type": "stream",
          "name": "stdout",
          "text": [
            "Digite seu nome: Dani\n",
            "Digite o ano de nascimento: 1995\n",
            "Digite o ano atual: 2024\n",
            "Digite o número do mês do seu aniversário: 1\n",
            "Digite o número do mês em que estamos: 2\n",
            "Bem-vindo(a), Danielly  você tem 28 anos!\n"
          ]
        }
      ]
    },
    {
      "cell_type": "code",
      "source": [
        "altura = 1.54\n",
        "print(float(altura))"
      ],
      "metadata": {
        "colab": {
          "base_uri": "https://localhost:8080/"
        },
        "id": "346QPgxFHCQB",
        "outputId": "e0239ae8-e007-47c6-c1d4-82de852627b5"
      },
      "execution_count": null,
      "outputs": [
        {
          "output_type": "stream",
          "name": "stdout",
          "text": [
            "1.54\n"
          ]
        }
      ]
    },
    {
      "cell_type": "code",
      "source": [
        "Nome = input(\"Digite seu nome: \")\n",
        "peso = float(input(\"Digite seu peso: \"))\n",
        "altura = float(input(\"Digite sua altura: \"))\n",
        "\n",
        "IMC = peso/altura**2\n",
        "print(f\"O seu nome é: {Nome} e IMC é: {IMC}\")"
      ],
      "metadata": {
        "colab": {
          "base_uri": "https://localhost:8080/"
        },
        "id": "DQsmglcVHz1P",
        "outputId": "b22b29d7-d451-4c91-97bf-53882a46a348"
      },
      "execution_count": null,
      "outputs": [
        {
          "output_type": "stream",
          "name": "stdout",
          "text": [
            "Digite seu nome: Dani\n",
            "Digite seu peso: 45\n",
            "Digite sua altura: 1.54\n",
            "O seu IMC é: 18.974531961544947\n"
          ]
        }
      ]
    },
    {
      "cell_type": "code",
      "source": [
        "numero = 28\n",
        "\n",
        "if numero > 17:\n",
        "  print(\"Você é maior de idade. \")\n",
        "else:\n",
        "  print(\"Você é menor de idade. \")"
      ],
      "metadata": {
        "colab": {
          "base_uri": "https://localhost:8080/"
        },
        "id": "-IgTnep451sN",
        "outputId": "651b2e8b-3beb-4a32-c914-4ccae66789d8"
      },
      "execution_count": 2,
      "outputs": [
        {
          "output_type": "stream",
          "name": "stdout",
          "text": [
            "Você é maior de idade. \n"
          ]
        }
      ]
    },
    {
      "cell_type": "code",
      "source": [
        "idade = 28\n",
        "\n",
        "if idade < 12:\n",
        "  print(\"Você é uma criança. \")\n",
        "elif idade < 17:\n",
        "  print(\"Você é um adolescente. \")\n",
        "elif idade < 59:\n",
        "  print(\"Você é um adulto. \")\n",
        "else:\n",
        "  print(\"Você é um idoso. \")\n"
      ],
      "metadata": {
        "colab": {
          "base_uri": "https://localhost:8080/"
        },
        "id": "en0ybuyg8GT5",
        "outputId": "363376b6-965d-4f5e-c49b-fedefefae742"
      },
      "execution_count": 9,
      "outputs": [
        {
          "output_type": "stream",
          "name": "stdout",
          "text": [
            "Você é um adulto. \n"
          ]
        }
      ]
    }
  ]
}