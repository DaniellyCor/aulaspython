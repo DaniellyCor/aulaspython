{
  "cells": [
    {
      "cell_type": "markdown",
      "metadata": {
        "id": "view-in-github",
        "colab_type": "text"
      },
      "source": [
        "<a href=\"https://colab.research.google.com/github/DaniellyCor/aulaspython/blob/main/MeninasSuperPoderosas.ipynb\" target=\"_parent\"><img src=\"https://colab.research.google.com/assets/colab-badge.svg\" alt=\"Open In Colab\"/></a>"
      ]
    },
    {
      "cell_type": "code",
      "execution_count": null,
      "metadata": {
        "colab": {
          "base_uri": "https://localhost:8080/",
          "height": 157
        },
        "id": "PcrjGgieJhK1",
        "outputId": "f8a92e61-e548-4a2e-b2a0-0d5290253fe5"
      },
      "outputs": [
        {
          "output_type": "execute_result",
          "data": {
            "text/plain": [
              "'\\nimport random\\n\\ndef jogar():\\n  #Introdução do jogo\\n  print(\"Açúcar, tempero e tudo o que há de bom, esses foram os ingredientes escolhidos para criar as menininhas perfeitas, mas o Professor Utonio acidentalmente acrescentou um elemento extra na mistura.\")\\n  print(\"O elemento X!\")\\n  print(\"E assim nasceram as Meninas Super Poderosas, usando seus ultra-super poderes\")\\n  print(\"Florzinha, Lindinha e Docinho, têm dedicado suas vidas combatendo o crime e as forças do mal.\")\\n  opcoes = [\"florzinha\", \"lindinha\", \"docinho\"]\\n  print(\"O telefone tocou e o Prefeito informa que o Macaco Louco está atrás de suas irmãs.\")\\n\\n  #Escolhe a Menina Super Poderosa\\n  while True:\\n    print(\"Escolha uma Menina Super Poderosa:\")\\n    print(\"1 - Florzinha\")\\n    print(\"2 - Lindinha\")\\n    print(\"3 - Docinho\")\\n\\n  escolha_menina = int(input(\"Escolha sua Menina Super Poderosa de acordo com o seu número: \"))\\n\\n\\n    #Introdução do problema a ser resolvido no jogo\\nprint(\"O Macaco Louco fez um plano de dominar o mundo e sequestrou suas irmãs, você precisa encontrá-las o mais rápido possível!\")\\n\\nwhile True:\\n    #Escolhe o lugar\\n    print(\"Onde suas irmãs estão?\")\\n    print(\"1 - Na casa do Macaco Louco.\")\\n    print(\"2 - Na Prefeitura.\")\\n    print(\"3 - Fora da cidade.\")\\n    print(\"0 - Desistir\")\\n    escolha_lugar = int(input(\"Diga onde estão suas irmãs de acordo o número informado: \"))\\n\\n    # Macaco Louco esconde suas irmãs\\n    random.randint(1,2,3)\\n    macaco_louco = random.choice(options)\\n\\n    # Verifica se o jogador quer desistir\\n    if escolha_lugar == 0:\\n        print(\"Você desistiu do jogo.\")\\n        break\\n    print(f\"Lugar que o Macaco Louco escondeu suas irmãs: {macaco_louco.capitalize()}\")\\n\\n      #Achar as Meninas\\n    if escolha_lugar == macaco_louco:\\n        print(\"Você encontrou suas irmãs!\")\\n        print(\"Vocês lutam contra o Macaco Louco.\")\\n        print(\"Mais uma vez o dia foi salvo graças as Meninas Super Poderosas!\")\\n    elif escolha_lugar != macaco_louco:\\n        print(\"Você não encontrou todas as Meninas Super Poderosas.\")\\n\\nif __name__ == \"__main__\":\\n  jogar()\\n  '"
            ],
            "application/vnd.google.colaboratory.intrinsic+json": {
              "type": "string"
            }
          },
          "metadata": {},
          "execution_count": 1
        }
      ],
      "source": [
        "'''\n",
        "import random\n",
        "\n",
        "def jogar():\n",
        "  #Introdução do jogo\n",
        "  print(\"Açúcar, tempero e tudo o que há de bom, esses foram os ingredientes escolhidos para criar as menininhas perfeitas, mas o Professor Utonio acidentalmente acrescentou um elemento extra na mistura.\")\n",
        "  print(\"O elemento X!\")\n",
        "  print(\"E assim nasceram as Meninas Super Poderosas, usando seus ultra-super poderes\")\n",
        "  print(\"Florzinha, Lindinha e Docinho, têm dedicado suas vidas combatendo o crime e as forças do mal.\")\n",
        "  opcoes = [\"florzinha\", \"lindinha\", \"docinho\"]\n",
        "  print(\"O telefone tocou e o Prefeito informa que o Macaco Louco está atrás de suas irmãs.\")\n",
        "\n",
        "  #Escolhe a Menina Super Poderosa\n",
        "  while True:\n",
        "    print(\"Escolha uma Menina Super Poderosa:\")\n",
        "    print(\"1 - Florzinha\")\n",
        "    print(\"2 - Lindinha\")\n",
        "    print(\"3 - Docinho\")\n",
        "\n",
        "  escolha_menina = int(input(\"Escolha sua Menina Super Poderosa de acordo com o seu número: \"))\n",
        "\n",
        "\n",
        "    #Introdução do problema a ser resolvido no jogo\n",
        "print(\"O Macaco Louco fez um plano de dominar o mundo e sequestrou suas irmãs, você precisa encontrá-las o mais rápido possível!\")\n",
        "\n",
        "while True:\n",
        "    #Escolhe o lugar\n",
        "    print(\"Onde suas irmãs estão?\")\n",
        "    print(\"1 - Na casa do Macaco Louco.\")\n",
        "    print(\"2 - Na Prefeitura.\")\n",
        "    print(\"3 - Fora da cidade.\")\n",
        "    print(\"0 - Desistir\")\n",
        "    escolha_lugar = int(input(\"Diga onde estão suas irmãs de acordo o número informado: \"))\n",
        "\n",
        "    # Macaco Louco esconde suas irmãs\n",
        "    random.randint(1,2,3)\n",
        "    macaco_louco = random.choice(options)\n",
        "\n",
        "    # Verifica se o jogador quer desistir\n",
        "    if escolha_lugar == 0:\n",
        "        print(\"Você desistiu do jogo.\")\n",
        "        break\n",
        "    print(f\"Lugar que o Macaco Louco escondeu suas irmãs: {macaco_louco.capitalize()}\")\n",
        "\n",
        "      #Achar as Meninas\n",
        "    if escolha_lugar == macaco_louco:\n",
        "        print(\"Você encontrou suas irmãs!\")\n",
        "        print(\"Vocês lutam contra o Macaco Louco.\")\n",
        "        print(\"Mais uma vez o dia foi salvo graças as Meninas Super Poderosas!\")\n",
        "    elif escolha_lugar != macaco_louco:\n",
        "        print(\"Você não encontrou todas as Meninas Super Poderosas.\")\n",
        "\n",
        "if __name__ == \"__main__\":\n",
        "  jogar()\n",
        "  '''\n",
        "\n"
      ]
    },
    {
      "cell_type": "code",
      "execution_count": 3,
      "metadata": {
        "colab": {
          "base_uri": "https://localhost:8080/"
        },
        "id": "73GrDa2kgxpF",
        "outputId": "efce4782-e93a-4087-aa2c-ca012b77449a"
      },
      "outputs": [
        {
          "output_type": "stream",
          "name": "stdout",
          "text": [
            "Bem-vindo ao jogo das Meninas Super Poderosas!\n",
            "Açúcar, tempero e tudo o que há de bom, esses foram os ingredientes escolhidos para criar as menininhas perfeitas, mas o Professor Utônio, acidentalmente, acrescentou um elemento extra na mistura.\n",
            "O elemento X!\n",
            "E assim nasceram as Meninas Super Poderosas, usando seus ultra-super poderes:\n",
            "Florzinha, Lindinha e Docinho, têm dedicado suas vidas combatendo o crime e as forças do mal.\n",
            "O telefone tocou e o Prefeito informa que o Macaco Louco está atrás de suas irmãs.\n",
            "O Macaco Louco está atrás de suas irmãs!\n",
            "Você precisa encontrá-las o mais rápido possível!\n",
            "Onde estão suas irmãs?\n",
            "Não pode responder: Eu lá sou guardador do meu irmão, não seja preguiçoso, vai procurar!\n",
            "1 - Na casa do Macaco Louco\n",
            "2 - Na Prefeitura\n",
            "3 - Fora da cidade\n",
            "0 - Sair do jogo\n",
            "Digite o número correspondente ao lugar que suas irmãs estão: 1\n",
            "Macaco Louco escondeu suas irmãs: 2\n",
            "Você perdeu!\n"
          ]
        }
      ],
      "source": [
        "import random\n",
        "\n",
        "#Você é uma Menina Super Poderosa e o Macaco Louco escondeu suas irmãs\n",
        "#Você precisa encontrá-las o mais rápido possível!\n",
        "\n",
        "def jogar():\n",
        "    print(\"Bem-vindo ao jogo das Meninas Super Poderosas!\")\n",
        "    print(\"Açúcar, tempero e tudo o que há de bom, esses foram os ingredientes escolhidos para criar as menininhas perfeitas, mas o Professor Utônio, acidentalmente, acrescentou um elemento extra na mistura.\")\n",
        "    print(\"O elemento X!\")\n",
        "    print(\"E assim nasceram as Meninas Super Poderosas, usando seus ultra-super poderes:\")\n",
        "    print(\"Florzinha, Lindinha e Docinho, têm dedicado suas vidas combatendo o crime e as forças do mal.\")\n",
        "    print(\"O telefone tocou e o Prefeito informa que o Macaco Louco está atrás de suas irmãs.\")\n",
        "    print(\"O Macaco Louco está atrás de suas irmãs!\")\n",
        "    print(\"Você precisa encontrá-las o mais rápido possível!\")\n",
        "\n",
        "    opcoes = [1, 2, 3]\n",
        "\n",
        "    while True:\n",
        "            # Jogador escolhe sua jogada\n",
        "            print(\"Onde estão suas irmãs?\")\n",
        "            print(\"Não pode responder: Eu lá sou guardador do meu irmão, não seja preguiçoso, vai procurar!\")\n",
        "            print(\"1 - Na casa do Macaco Louco\")\n",
        "            print(\"2 - Na Prefeitura\")\n",
        "            print(\"3 - Fora da cidade\")\n",
        "            print(\"0 - Sair do jogo\")\n",
        "            escolha_jogador = input(\"Digite o número correspondente ao lugar que suas irmãs estão: \")\n",
        "\n",
        "            if escolha_jogador == '0':\n",
        "                print(\"Jogo encerrado.\")\n",
        "                break\n",
        "            elif escolha_jogador not in ['1', '2', '3']:\n",
        "                print(\"Opção inválida. Escolha novamente.\")\n",
        "                continue\n",
        "\n",
        "            # Converter escolha do jogador para texto\n",
        "            escolha_jogador = int(escolha_jogador) - 1\n",
        "            jogada_jogador = opcoes[escolha_jogador]\n",
        "\n",
        "            # Computador faz sua jogada\n",
        "            jogada_macaco = random.choice(opcoes)\n",
        "            print(f\"Macaco Louco escondeu suas irmãs: {jogada_macaco}\")\n",
        "\n",
        "            # Determinar o vencedor\n",
        "            if jogada_jogador == jogada_macaco:\n",
        "              print(\"Você ganhou!\")\n",
        "            else:\n",
        "              print(\"Você perdeu!\")\n",
        "              break2\n",
        "\n",
        "\n",
        "if __name__ == \"__main__\":\n",
        "    jogar()\n",
        "\n"
      ]
    }
  ],
  "metadata": {
    "colab": {
      "provenance": [],
      "authorship_tag": "ABX9TyPjuu+Fs6uTDju5sqjkFwgp",
      "include_colab_link": true
    },
    "kernelspec": {
      "display_name": "Python 3",
      "name": "python3"
    },
    "language_info": {
      "name": "python"
    }
  },
  "nbformat": 4,
  "nbformat_minor": 0
}