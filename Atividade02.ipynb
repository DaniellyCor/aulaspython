{
  "nbformat": 4,
  "nbformat_minor": 0,
  "metadata": {
    "colab": {
      "provenance": [],
      "authorship_tag": "ABX9TyOrv7Gc9eqAVNZmV2CAhONp",
      "include_colab_link": true
    },
    "kernelspec": {
      "name": "python3",
      "display_name": "Python 3"
    },
    "language_info": {
      "name": "python"
    }
  },
  "cells": [
    {
      "cell_type": "markdown",
      "metadata": {
        "id": "view-in-github",
        "colab_type": "text"
      },
      "source": [
        "<a href=\"https://colab.research.google.com/github/DaniellyCor/aulaspython/blob/main/Atividade02.ipynb\" target=\"_parent\"><img src=\"https://colab.research.google.com/assets/colab-badge.svg\" alt=\"Open In Colab\"/></a>"
      ]
    },
    {
      "cell_type": "code",
      "execution_count": 98,
      "metadata": {
        "id": "AAKPpLYUPhc7",
        "colab": {
          "base_uri": "https://localhost:8080/"
        },
        "outputId": "6076fb0a-4189-4b19-ec03-210bd4012001"
      },
      "outputs": [
        {
          "output_type": "stream",
          "name": "stdout",
          "text": [
            "Digite seu nome: Danielly\n",
            "Digite o ano de nascimento: 2014\n",
            "Digite sua idade: 9\n",
            "O sistema será encerrado!\n"
          ]
        }
      ],
      "source": [
        "seu_nome = input(\"Digite seu nome: \")\n",
        "seu_ano = int (input(\"Digite o ano de nascimento: \"))\n",
        "idade = int(input(\"Digite sua idade: \"))\n",
        "\n",
        "if idade <= 17:\n",
        "  print(\"O sistema será encerrado!\")\n",
        "elif idade >= 18:\n",
        "  escolaridade = int(input(\"Qual a sua escolaridade? \\n 1 - Ensino Médio Completo \\n 2 - Ensino Superior Completo \\n\"))\n",
        "\n",
        "  if escolaridade == 1:\n",
        "      curso = int(input(\"Curso Superior: \\n 1 - Letras \\n 2 - Matemática \\n 3 - Ciências Computacionais \\n\"))\n",
        "      print(\"Parabéns pela escolha de Curso Superior!\")\n",
        "  elif escolaridade == 2:\n",
        "      pos = int(input(\"Pós Graduação: \\n 1 - Literatura \\n 2 - Estatística \\n 3 - Inteligência Artificial \\n\"))\n",
        "      print(\"Parabéns pela escolha de Pós Graduação!\")\n",
        "\n",
        "else:\n",
        "    print(\"Opção inválida!\")\n",
        "\n",
        "\n",
        "\n",
        ""
      ]
    }
  ]
}