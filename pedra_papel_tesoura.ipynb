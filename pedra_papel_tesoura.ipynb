{
  "nbformat": 4,
  "nbformat_minor": 0,
  "metadata": {
    "colab": {
      "provenance": [],
      "authorship_tag": "ABX9TyNCT9J/qk75JvTUazy3NFMv",
      "include_colab_link": true
    },
    "kernelspec": {
      "name": "python3",
      "display_name": "Python 3"
    },
    "language_info": {
      "name": "python"
    }
  },
  "cells": [
    {
      "cell_type": "markdown",
      "metadata": {
        "id": "view-in-github",
        "colab_type": "text"
      },
      "source": [
        "<a href=\"https://colab.research.google.com/github/DaniellyCor/aulaspython/blob/main/pedra_papel_tesoura.ipynb\" target=\"_parent\"><img src=\"https://colab.research.google.com/assets/colab-badge.svg\" alt=\"Open In Colab\"/></a>"
      ]
    },
    {
      "cell_type": "markdown",
      "source": [
        "Crie um código que simule o jogo pedra papel tesoura para jogar contra a máquina"
      ],
      "metadata": {
        "id": "GHIKqoyHXMdK"
      }
    },
    {
      "cell_type": "code",
      "source": [
        "import random\n",
        "\n",
        "def jogar():\n",
        "    print(\"Bem-vindo ao jogo Pedra, Papel e Tesoura!\")\n",
        "    opcoes = ['pedra', 'papel', 'tesoura']\n",
        "\n",
        "    while True:\n",
        "        # Jogador escolhe sua jogada\n",
        "        print(\"\\nEscolha sua jogada:\")\n",
        "        print(\"1 - Pedra\")\n",
        "        print(\"2 - Papel\")\n",
        "        print(\"3 - Tesoura\")\n",
        "        print(\"0 - Sair do jogo\")\n",
        "        escolha_jogador = input(\"Digite o número correspondente à sua escolha: \")\n",
        "\n",
        "        if escolha_jogador == '0':\n",
        "            print(\"Jogo encerrado.\")\n",
        "            break\n",
        "        elif escolha_jogador not in ['1', '2', '3']:\n",
        "            print(\"Opção inválida. Escolha novamente.\")\n",
        "            continue\n",
        "\n",
        "        # Converter escolha do jogador para texto\n",
        "        escolha_jogador = int(escolha_jogador) - 1\n",
        "        jogada_jogador = opcoes[escolha_jogador]\n",
        "        print(f\"Você escolheu: {jogada_jogador.capitalize()}\")\n",
        "\n",
        "        # Computador faz sua jogada\n",
        "        jogada_computador = random.choice(opcoes)\n",
        "        print(f\"Computador escolheu: {jogada_computador.capitalize()}\")\n",
        "\n",
        "        # Determinar o vencedor\n",
        "        if jogada_jogador == jogada_computador:\n",
        "            print(\"Empate!\")\n",
        "        elif (jogada_jogador == 'pedra' and jogada_computador == 'tesoura') or \\\n",
        "             (jogada_jogador == 'papel' and jogada_computador == 'pedra') or \\\n",
        "             (jogada_jogador == 'tesoura' and jogada_computador == 'papel'):\n",
        "            print(\"Você ganhou!\")\n",
        "        else:\n",
        "            print(\"Você perdeu!\")\n",
        "\n",
        "if __name__ == \"__main__\":\n",
        "    jogar()\n",
        "\n"
      ],
      "metadata": {
        "id": "ewKhbuGAoBSw",
        "colab": {
          "base_uri": "https://localhost:8080/"
        },
        "outputId": "e84262b9-be50-44cf-ba19-9714d0275b3d"
      },
      "execution_count": 62,
      "outputs": [
        {
          "output_type": "stream",
          "name": "stdout",
          "text": [
            "Bem-vindo ao jogo Pedra, Papel e Tesoura!\n",
            "\n",
            "Escolha sua jogada:\n",
            "1 - Pedra\n",
            "2 - Papel\n",
            "3 - Tesoura\n",
            "0 - Sair do jogo\n",
            "Digite o número correspondente à sua escolha: 1\n",
            "Você escolheu: Pedra\n",
            "Computador escolheu: Tesoura\n",
            "Você ganhou!\n",
            "\n",
            "Escolha sua jogada:\n",
            "1 - Pedra\n",
            "2 - Papel\n",
            "3 - Tesoura\n",
            "0 - Sair do jogo\n",
            "Digite o número correspondente à sua escolha: 0\n",
            "Jogo encerrado.\n"
          ]
        }
      ]
    }
  ]
}