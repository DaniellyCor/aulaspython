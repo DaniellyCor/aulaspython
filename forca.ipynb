{
  "nbformat": 4,
  "nbformat_minor": 0,
  "metadata": {
    "colab": {
      "provenance": [],
      "authorship_tag": "ABX9TyM870/qqVgqiflyVskpgGB1",
      "include_colab_link": true
    },
    "kernelspec": {
      "name": "python3",
      "display_name": "Python 3"
    },
    "language_info": {
      "name": "python"
    }
  },
  "cells": [
    {
      "cell_type": "markdown",
      "metadata": {
        "id": "view-in-github",
        "colab_type": "text"
      },
      "source": [
        "<a href=\"https://colab.research.google.com/github/DaniellyCor/aulaspython/blob/main/forca.ipynb\" target=\"_parent\"><img src=\"https://colab.research.google.com/assets/colab-badge.svg\" alt=\"Open In Colab\"/></a>"
      ]
    },
    {
      "cell_type": "code",
      "execution_count": 1,
      "metadata": {
        "colab": {
          "base_uri": "https://localhost:8080/"
        },
        "id": "ecj3wh8POFGI",
        "outputId": "ff747bee-daa7-4b30-86c5-2e94612c3ef7"
      },
      "outputs": [
        {
          "output_type": "stream",
          "name": "stdout",
          "text": [
            "Bem-vindo ao Jogo da Forca!\n",
            "A palavra tem 11 letras.\n",
            "Palavra: ___________\n",
            "Tentativas restantes: 6\n",
            "Digite uma letra: a\n",
            "Letras erradas: \n",
            "\n",
            "Palavra: _____a_a_a_\n",
            "Tentativas restantes: 6\n",
            "Digite uma letra: e\n",
            "Letras erradas: e\n",
            "\n",
            "Palavra: _____a_a_a_\n",
            "Tentativas restantes: 5\n",
            "Digite uma letra: i\n",
            "Letras erradas: e, i\n",
            "\n",
            "Palavra: _____a_a_a_\n",
            "Tentativas restantes: 4\n",
            "Digite uma letra: o\n",
            "Letras erradas: e, i\n",
            "\n",
            "Palavra: __o__a_a_ao\n",
            "Tentativas restantes: 4\n",
            "Digite uma letra: b\n",
            "Letras erradas: e, i, b\n",
            "\n",
            "Palavra: __o__a_a_ao\n",
            "Tentativas restantes: 3\n",
            "Digite uma letra: g\n",
            "Letras erradas: e, i, b\n",
            "\n",
            "Palavra: __og_a_a_ao\n",
            "Tentativas restantes: 3\n",
            "Digite uma letra: l\n",
            "Letras erradas: e, i, b, l\n",
            "\n",
            "Palavra: __og_a_a_ao\n",
            "Tentativas restantes: 2\n",
            "Digite uma letra: r\n",
            "Letras erradas: e, i, b, l\n",
            "\n",
            "Palavra: _rogra_a_ao\n",
            "Tentativas restantes: 2\n",
            "Digite uma letra: p\n",
            "Letras erradas: e, i, b, l\n",
            "\n",
            "Palavra: progra_a_ao\n",
            "Tentativas restantes: 2\n",
            "Digite uma letra: m\n",
            "Letras erradas: e, i, b, l\n",
            "\n",
            "Palavra: programa_ao\n",
            "Tentativas restantes: 2\n",
            "Digite uma letra: ç\n",
            "Letras erradas: e, i, b, l, ç\n",
            "\n",
            "Palavra: programa_ao\n",
            "Tentativas restantes: 1\n",
            "Digite uma letra: c\n",
            "Letras erradas: e, i, b, l, ç\n",
            "\n",
            "Palavra: programacao\n",
            "Tentativas restantes: 1\n",
            "Parabéns! Você ganhou!\n",
            "Obrigado por jogar!\n"
          ]
        }
      ],
      "source": [
        "import random\n",
        "\n",
        "def jogar_forca():\n",
        "    palavras = ['python', 'programacao', 'computador', 'jogo', 'internet', 'teclado']\n",
        "    palavra = random.choice(palavras)\n",
        "    letras_certas = []\n",
        "    letras_erradas = []\n",
        "    tentativas = 6\n",
        "\n",
        "    print(\"Bem-vindo ao Jogo da Forca!\")\n",
        "    print(f'A palavra tem {len(palavra)} letras.')\n",
        "\n",
        "    while True:\n",
        "        # Mostra o estado atual da palavra com traços para letras não reveladas\n",
        "        palavra_atual = ''.join(letra if letra in letras_certas else '_' for letra in palavra)\n",
        "        print(f'Palavra: {palavra_atual}')\n",
        "        print(f'Tentativas restantes: {tentativas}')\n",
        "\n",
        "        if palavra_atual == palavra:\n",
        "            print('Parabéns! Você ganhou!')\n",
        "            break\n",
        "\n",
        "        if tentativas == 0:\n",
        "            print(f'Game Over! A palavra era: {palavra}')\n",
        "            break\n",
        "\n",
        "        # Captura a letra do jogador\n",
        "        letra = input('Digite uma letra: ').strip().lower()\n",
        "\n",
        "        # Verifica se a letra já foi tentada\n",
        "        if letra in letras_certas or letra in letras_erradas:\n",
        "            print('Você já tentou esta letra. Tente outra.')\n",
        "            continue\n",
        "\n",
        "        # Verifica se a letra está na palavra\n",
        "        if letra in palavra:\n",
        "            letras_certas.append(letra)\n",
        "        else:\n",
        "            letras_erradas.append(letra)\n",
        "            tentativas -= 1\n",
        "\n",
        "        # Mostra as letras erradas\n",
        "        print(f'Letras erradas: {\", \".join(letras_erradas)}')\n",
        "        print()\n",
        "\n",
        "    print('Obrigado por jogar!')\n",
        "\n",
        "# Executa o jogo\n",
        "if __name__ == \"__main__\":\n",
        "    jogar_forca()\n"
      ]
    }
  ]
}