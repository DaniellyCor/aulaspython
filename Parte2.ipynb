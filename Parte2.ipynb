{
  "nbformat": 4,
  "nbformat_minor": 0,
  "metadata": {
    "colab": {
      "provenance": [],
      "authorship_tag": "ABX9TyPxojn+MiL73Oz3OrKR3Dxh",
      "include_colab_link": true
    },
    "kernelspec": {
      "name": "python3",
      "display_name": "Python 3"
    },
    "language_info": {
      "name": "python"
    }
  },
  "cells": [
    {
      "cell_type": "markdown",
      "metadata": {
        "id": "view-in-github",
        "colab_type": "text"
      },
      "source": [
        "<a href=\"https://colab.research.google.com/github/DaniellyCor/aulaspython/blob/main/Parte2.ipynb\" target=\"_parent\"><img src=\"https://colab.research.google.com/assets/colab-badge.svg\" alt=\"Open In Colab\"/></a>"
      ]
    },
    {
      "cell_type": "markdown",
      "source": [
        "Crie um código que solicite ao usuário 2 números.\n",
        "Em seguida pergunte qual calculo o usuário deseja fazer.\n",
        "Por fim realize o calculo conforme solicitado pelo usuário."
      ],
      "metadata": {
        "id": "qSm8kyVCTfnD"
      }
    },
    {
      "cell_type": "code",
      "source": [
        "num01 = int(input(\"Digite um número: \"))\n",
        "num02 = int(input(\"Digite outro número: \"))\n",
        "\n",
        "\n",
        "operacao = int(input(\"Escolha uma operação matemática: \\n 1- Soma; \\n 2- Subtração; \\n 3- Multiplicação; \\n 4- Divisão. \\n\"))\n",
        "\n",
        "if operacao == 1:\n",
        "  result = num01 + num02\n",
        "  print(f\"O resultado da soma é {result}.\")\n",
        "elif operacao == 2:\n",
        "  result = num01 - num02\n",
        "  print(f\"O resultado da subtração é {result}.\")\n",
        "elif operacao == 3:\n",
        "  result = num01 * num02\n",
        "  print(f\"O resultado da multiplicação é {result}.\")\n",
        "elif operacao == 4:\n",
        "  result = num01 / num02\n",
        "  print(f\"O resultado da divisão é {result}.\")\n",
        "else:\n",
        "  print(\"Opção inválida!\")"
      ],
      "metadata": {
        "colab": {
          "base_uri": "https://localhost:8080/"
        },
        "id": "u9DaJQfjTnz-",
        "outputId": "2bf4f9b6-73c4-43dc-a65a-194f8ba2332d"
      },
      "execution_count": 112,
      "outputs": [
        {
          "output_type": "stream",
          "name": "stdout",
          "text": [
            "Digite um número: 8\n",
            "Digite outro número: 3\n",
            "Escolha uma operação matemática: \n",
            " 1- Soma; \n",
            " 2- Subtração; \n",
            " 3- Multiplicação; \n",
            " 4- Divisão. \n",
            "4\n",
            "O resultado da divisão é 2.6666666666666665.\n"
          ]
        }
      ]
    }
  ]
}