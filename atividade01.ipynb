{
  "cells": [
    {
      "attachments": {},
      "cell_type": "markdown",
      "metadata": {
        "colab_type": "text",
        "id": "view-in-github"
      },
      "source": [
        "<a href=\"https://colab.research.google.com/github/DaniellyCor/aulaspython/blob/main/Untitled0.ipynb\" target=\"_parent\"><img src=\"https://colab.research.google.com/assets/colab-badge.svg\" alt=\"Open In Colab\"/></a>"
      ]
    },
    {
      "cell_type": "code",
      "execution_count": null,
      "metadata": {
        "colab": {
          "base_uri": "https://localhost:8080/"
        },
        "id": "RlFJFXVOu23B",
        "outputId": "70017648-a673-4fb3-8d36-ec176a9517a6"
      },
      "outputs": [
        {
          "name": "stdout",
          "output_type": "stream",
          "text": [
            "Teste!\n"
          ]
        }
      ],
      "source": [
        "print(\"Teste!\")"
      ]
    },
    {
      "cell_type": "code",
      "execution_count": null,
      "metadata": {
        "colab": {
          "base_uri": "https://localhost:8080/"
        },
        "id": "23XcyXSyvXDg",
        "outputId": "cbb01f2d-f707-4929-cc01-a421f3a7776e"
      },
      "outputs": [
        {
          "name": "stdout",
          "output_type": "stream",
          "text": [
            "Teste\n"
          ]
        }
      ],
      "source": [
        "#comentário teste\n",
        "#comentário teste\n",
        "'''\n",
        "comentário teste\n",
        "'''\n",
        "print (\"Teste\")"
      ]
    },
    {
      "cell_type": "code",
      "execution_count": null,
      "metadata": {
        "colab": {
          "base_uri": "https://localhost:8080/"
        },
        "id": "7bNlyziKxNvH",
        "outputId": "a11ce1e7-6343-4fd5-fe3e-3e8eb0a1afb1"
      },
      "outputs": [
        {
          "name": "stdout",
          "output_type": "stream",
          "text": [
            "15576\n",
            "Danielly Danielly \n"
          ]
        }
      ],
      "source": [
        "numero = 7788\n",
        "nome = \"Danielly \"\n",
        "print(numero + numero)\n",
        "print(nome + nome)\n"
      ]
    },
    {
      "attachments": {},
      "cell_type": "markdown",
      "metadata": {
        "id": "hPnln0MxyUjY"
      },
      "source": [
        "Soma +\n",
        "Subtração -\n",
        "Divisão /\n",
        "Multiplicação *\n",
        "Resto da divisão %\n",
        "Potência **\n"
      ]
    },
    {
      "attachments": {},
      "cell_type": "markdown",
      "metadata": {
        "id": "Vht_JO9Hz8ym"
      },
      "source": [
        "Crie 3 variáveis numéricas\n",
        "Faça um cálculo com elas\n",
        "Crie 2 variáveis do tipo string: nome e sobrenome\n",
        "Exiba os resultados com o print"
      ]
    },
    {
      "cell_type": "code",
      "execution_count": null,
      "metadata": {
        "colab": {
          "base_uri": "https://localhost:8080/"
        },
        "id": "X3OvaLzEz-se",
        "outputId": "3678b5aa-140f-4c57-abfc-354d26732d78"
      },
      "outputs": [
        {
          "name": "stdout",
          "output_type": "stream",
          "text": [
            "Danielly Cor\n",
            "28\n"
          ]
        }
      ],
      "source": [
        "#atividade01\n",
        "nome = \"Danielly \"\n",
        "sobrenome = \"Ribeiro\"\n",
        "anonasc = 1990\n",
        "anoat = 2024\n",
        "fator = 1\n",
        "\n",
        "print(nome + sobrenome)\n",
        "print(anoat - anonasc - 1)"
      ]
    },
    {
      "cell_type": "code",
      "execution_count": null,
      "metadata": {
        "colab": {
          "base_uri": "https://localhost:8080/"
        },
        "id": "TLTMXUtk1-nW",
        "outputId": "3ec02a22-7278-4f4f-9e26-bdaa503237e9"
      },
      "outputs": [
        {
          "name": "stdout",
          "output_type": "stream",
          "text": [
            "Digite seu nome: Danielly\n",
            "Bem-vindo(a), Danielly\n"
          ]
        }
      ],
      "source": [
        "seu_nome = input(\"Digite seu nome: \")\n",
        "print(\"Bem-vindo(a), \"+ seu_nome)"
      ]
    },
    {
      "cell_type": "code",
      "execution_count": null,
      "metadata": {
        "colab": {
          "base_uri": "https://localhost:8080/"
        },
        "id": "15T9z5zR3yhN",
        "outputId": "8c22e17d-63f6-4637-d6be-14f152ce7bbe"
      },
      "outputs": [
        {
          "name": "stdout",
          "output_type": "stream",
          "text": [
            "Bem-vindo(a), Danielly\n"
          ]
        }
      ],
      "source": [
        "print(f\"Bem-vindo(a), {seu_nome}\")"
      ]
    },
    {
      "cell_type": "code",
      "execution_count": null,
      "metadata": {
        "id": "_WsK1-HU4HYV"
      },
      "outputs": [],
      "source": [
        "str(numero)+ nome"
      ]
    },
    {
      "cell_type": "code",
      "execution_count": null,
      "metadata": {
        "colab": {
          "base_uri": "https://localhost:8080/"
        },
        "id": "0Lm4qzVO4TVW",
        "outputId": "35186c36-6c44-4d2e-cbd2-d53caec7f5cc"
      },
      "outputs": [
        {
          "name": "stdout",
          "output_type": "stream",
          "text": [
            "Digite seu nome: Dani\n",
            "Digite o ano de nascimento: 1990\n",
            "Digite o ano atual: 2024\n",
            "Digite o número do mês do seu aniversário: 1\n",
            "Digite o número do mês em que estamos: 2\n",
            "Bem-vindo(a), Danielly  você tem 33 anos!\n"
          ]
        }
      ],
      "source": [
        "seu_nome = input(\"Digite seu nome: \")\n",
        "seu_ano = int (input(\"Digite o ano de nascimento: \"))\n",
        "ano_atual = int (input(\"Digite o ano atual: \"))\n",
        "#mes_niver = int (input (\"Digite o número do mês do seu aniversário: \"))\n",
        "#mes_atual = int (input(\"Digite o número do mês em que estamos: \"))\n",
        "\n",
        "idade = (ano_atual - seu_ano - 1)\n",
        "\n",
        "print(f\"Bem-vindo(a), {nome} você tem {idade} anos!\")\n"
      ]
    },
    {
      "cell_type": "code",
      "execution_count": null,
      "metadata": {
        "colab": {
          "base_uri": "https://localhost:8080/"
        },
        "id": "346QPgxFHCQB",
        "outputId": "e0239ae8-e007-47c6-c1d4-82de852627b5"
      },
      "outputs": [
        {
          "name": "stdout",
          "output_type": "stream",
          "text": [
            "1.54\n"
          ]
        }
      ],
      "source": [
        "altura = 1.54\n",
        "print(float(altura))"
      ]
    },
    {
      "cell_type": "code",
      "execution_count": null,
      "metadata": {
        "colab": {
          "base_uri": "https://localhost:8080/"
        },
        "id": "DQsmglcVHz1P",
        "outputId": "b22b29d7-d451-4c91-97bf-53882a46a348"
      },
      "outputs": [
        {
          "name": "stdout",
          "output_type": "stream",
          "text": [
            "Digite seu nome: Dani\n",
            "Digite seu peso: 45\n",
            "Digite sua altura: 1.54\n",
            "O seu IMC é: 18.974531961544947\n"
          ]
        }
      ],
      "source": [
        "Nome = input(\"Digite seu nome: \")\n",
        "peso = float(input(\"Digite seu peso: \"))\n",
        "altura = float(input(\"Digite sua altura: \"))\n",
        "\n",
        "IMC = peso/altura**2\n",
        "print(f\"O seu nome é: {Nome} e IMC é: {IMC}\")"
      ]
    },
    {
      "cell_type": "code",
      "execution_count": 2,
      "metadata": {
        "colab": {
          "base_uri": "https://localhost:8080/"
        },
        "id": "-IgTnep451sN",
        "outputId": "651b2e8b-3beb-4a32-c914-4ccae66789d8"
      },
      "outputs": [
        {
          "name": "stdout",
          "output_type": "stream",
          "text": [
            "Você é maior de idade. \n"
          ]
        }
      ],
      "source": [
        "numero = 28\n",
        "\n",
        "if numero > 17:\n",
        "  print(\"Você é maior de idade. \")\n",
        "else:\n",
        "  print(\"Você é menor de idade. \")"
      ]
    },
    {
      "cell_type": "code",
      "execution_count": 9,
      "metadata": {
        "colab": {
          "base_uri": "https://localhost:8080/"
        },
        "id": "en0ybuyg8GT5",
        "outputId": "363376b6-965d-4f5e-c49b-fedefefae742"
      },
      "outputs": [
        {
          "name": "stdout",
          "output_type": "stream",
          "text": [
            "Você é um adulto. \n"
          ]
        }
      ],
      "source": [
        "idade = 28\n",
        "\n",
        "if idade < 12:\n",
        "  print(\"Você é uma criança. \")\n",
        "elif idade < 17:\n",
        "  print(\"Você é um adolescente. \")\n",
        "elif idade < 59:\n",
        "  print(\"Você é um adulto. \")\n",
        "else:\n",
        "  print(\"Você é um idoso. \")\n"
      ]
    }
  ],
  "metadata": {
    "colab": {
      "authorship_tag": "ABX9TyNdZBFEdeQhgwiPZrBGX8jk",
      "include_colab_link": true,
      "provenance": []
    },
    "kernelspec": {
      "display_name": "Python 3",
      "name": "python3"
    },
    "language_info": {
      "name": "python"
    }
  },
  "nbformat": 4,
  "nbformat_minor": 0
}
